{
 "cells": [
  {
   "cell_type": "markdown",
   "metadata": {},
   "source": [
    "# Pandas support\n",
    "\n",
    "It is convenient to use the Pandas package when dealing with numerical data, so Pint provides PintArray. A PintArray is a Pandas Extension Array, which allows Pandas to recognise the Quantity and store it in Pandas DataFrames and Series."
   ]
  },
  {
   "cell_type": "markdown",
   "metadata": {},
   "source": [
    "## Basic example"
   ]
  },
  {
   "cell_type": "markdown",
   "metadata": {},
   "source": [
    "This example will show the simplest way to use pandas with pint and the underlying objects. It's slightly fiddly as you are not reading from a file. A more normal use case is given in Reading a csv.\n",
    "\n",
    "First some imports"
   ]
  },
  {
   "cell_type": "code",
   "execution_count": 1,
   "metadata": {},
   "outputs": [],
   "source": [
    "import pandas as pd \n",
    "import pint\n",
    "import pint_pandas"
   ]
  },
  {
   "cell_type": "markdown",
   "metadata": {},
   "source": [
    "Next, we create a DataFrame with PintArrays as columns."
   ]
  },
  {
   "cell_type": "code",
   "execution_count": 2,
   "metadata": {
    "tags": []
   },
   "outputs": [
    {
     "output_type": "stream",
     "name": "stderr",
     "text": "C:\\Users\\ayoung\\AppData\\Local\\Continuum\\anaconda3\\envs\\calcs\\lib\\site-packages\\pint_pandas\\pint_array.py:194: RuntimeWarning: pint-pandas does not support magnitudes of <class 'int'>. Converting magnitudes to float.\n  warnings.warn(\nC:\\Users\\ayoung\\AppData\\Local\\Continuum\\anaconda3\\envs\\calcs\\lib\\site-packages\\pint_pandas\\pint_array.py:648: UnitStrippedWarning: The unit of the quantity is stripped when downcasting to ndarray.\n  return np.array(qtys, dtype=\"object\", copy=copy)\nC:\\Users\\ayoung\\AppData\\Local\\Continuum\\anaconda3\\envs\\calcs\\lib\\site-packages\\pint_pandas\\pint_array.py:648: UnitStrippedWarning: The unit of the quantity is stripped when downcasting to ndarray.\n  return np.array(qtys, dtype=\"object\", copy=copy)\n"
    },
    {
     "output_type": "execute_result",
     "data": {
      "text/plain": "  torque angular_velocity\n0    1.0              1.0\n1    2.0              2.0\n2    2.0              2.0\n3    3.0              3.0",
      "text/html": "<div>\n<style scoped>\n    .dataframe tbody tr th:only-of-type {\n        vertical-align: middle;\n    }\n\n    .dataframe tbody tr th {\n        vertical-align: top;\n    }\n\n    .dataframe thead th {\n        text-align: right;\n    }\n</style>\n<table border=\"1\" class=\"dataframe\">\n  <thead>\n    <tr style=\"text-align: right;\">\n      <th></th>\n      <th>torque</th>\n      <th>angular_velocity</th>\n    </tr>\n  </thead>\n  <tbody>\n    <tr>\n      <th>0</th>\n      <td>1.0</td>\n      <td>1.0</td>\n    </tr>\n    <tr>\n      <th>1</th>\n      <td>2.0</td>\n      <td>2.0</td>\n    </tr>\n    <tr>\n      <th>2</th>\n      <td>2.0</td>\n      <td>2.0</td>\n    </tr>\n    <tr>\n      <th>3</th>\n      <td>3.0</td>\n      <td>3.0</td>\n    </tr>\n  </tbody>\n</table>\n</div>"
     },
     "metadata": {},
     "execution_count": 2
    }
   ],
   "source": [
    "df = pd.DataFrame({\n",
    "    \"torque\": pd.Series([1, 2, 2, 3], dtype=\"pint[lbf ft]\"),\n",
    "    \"angular_velocity\": pd.Series([1, 2, 2, 3], dtype=\"pint[rpm]\"),\n",
    "})\n",
    "df"
   ]
  },
  {
   "cell_type": "markdown",
   "metadata": {},
   "source": [
    "Operations with columns are units aware so behave as we would intuitively expect."
   ]
  },
  {
   "cell_type": "code",
   "execution_count": 3,
   "metadata": {
    "tags": []
   },
   "outputs": [
    {
     "output_type": "stream",
     "name": "stderr",
     "text": "C:\\Users\\ayoung\\AppData\\Local\\Continuum\\anaconda3\\envs\\calcs\\lib\\site-packages\\pint_pandas\\pint_array.py:648: UnitStrippedWarning: The unit of the quantity is stripped when downcasting to ndarray.\n  return np.array(qtys, dtype=\"object\", copy=copy)\nC:\\Users\\ayoung\\AppData\\Local\\Continuum\\anaconda3\\envs\\calcs\\lib\\site-packages\\pint_pandas\\pint_array.py:648: UnitStrippedWarning: The unit of the quantity is stripped when downcasting to ndarray.\n  return np.array(qtys, dtype=\"object\", copy=copy)\n"
    },
    {
     "output_type": "execute_result",
     "data": {
      "text/plain": "  torque angular_velocity power\n0    1.0              1.0   1.0\n1    2.0              2.0   4.0\n2    2.0              2.0   4.0\n3    3.0              3.0   9.0",
      "text/html": "<div>\n<style scoped>\n    .dataframe tbody tr th:only-of-type {\n        vertical-align: middle;\n    }\n\n    .dataframe tbody tr th {\n        vertical-align: top;\n    }\n\n    .dataframe thead th {\n        text-align: right;\n    }\n</style>\n<table border=\"1\" class=\"dataframe\">\n  <thead>\n    <tr style=\"text-align: right;\">\n      <th></th>\n      <th>torque</th>\n      <th>angular_velocity</th>\n      <th>power</th>\n    </tr>\n  </thead>\n  <tbody>\n    <tr>\n      <th>0</th>\n      <td>1.0</td>\n      <td>1.0</td>\n      <td>1.0</td>\n    </tr>\n    <tr>\n      <th>1</th>\n      <td>2.0</td>\n      <td>2.0</td>\n      <td>4.0</td>\n    </tr>\n    <tr>\n      <th>2</th>\n      <td>2.0</td>\n      <td>2.0</td>\n      <td>4.0</td>\n    </tr>\n    <tr>\n      <th>3</th>\n      <td>3.0</td>\n      <td>3.0</td>\n      <td>9.0</td>\n    </tr>\n  </tbody>\n</table>\n</div>"
     },
     "metadata": {},
     "execution_count": 3
    }
   ],
   "source": [
    "df['power'] = df['torque'] * df['angular_velocity']\n",
    "df"
   ]
  },
  {
   "cell_type": "markdown",
   "metadata": {},
   "source": [
    "We can see the columns' units in the dtypes attribute"
   ]
  },
  {
   "cell_type": "code",
   "execution_count": 4,
   "metadata": {},
   "outputs": [
    {
     "output_type": "execute_result",
     "data": {
      "text/plain": "torque                                       pint[foot * force_pound]\nangular_velocity                         pint[revolutions_per_minute]\npower               pint[foot * force_pound * revolutions_per_minute]\ndtype: object"
     },
     "metadata": {},
     "execution_count": 4
    }
   ],
   "source": [
    "df.dtypes"
   ]
  },
  {
   "cell_type": "markdown",
   "metadata": {},
   "source": [
    "Each column can be accessed as a Pandas Series"
   ]
  },
  {
   "cell_type": "code",
   "execution_count": 5,
   "metadata": {},
   "outputs": [
    {
     "output_type": "execute_result",
     "data": {
      "text/plain": "0    1.0\n1    4.0\n2    4.0\n3    9.0\nName: power, dtype: pint[foot * force_pound * revolutions_per_minute]"
     },
     "metadata": {},
     "execution_count": 5
    }
   ],
   "source": [
    "df.power"
   ]
  },
  {
   "cell_type": "markdown",
   "metadata": {},
   "source": [
    "Which contains a PintArray"
   ]
  },
  {
   "cell_type": "code",
   "execution_count": 6,
   "metadata": {},
   "outputs": [
    {
     "output_type": "execute_result",
     "data": {
      "text/plain": "<PintArray>\n[1.0, 4.0, 4.0, 9.0]\nLength: 4, dtype: pint[foot * force_pound * revolutions_per_minute]"
     },
     "metadata": {},
     "execution_count": 6
    }
   ],
   "source": [
    "df.power.values"
   ]
  },
  {
   "cell_type": "markdown",
   "metadata": {},
   "source": [
    "The PintArray contains a Quantity"
   ]
  },
  {
   "cell_type": "code",
   "execution_count": 7,
   "metadata": {},
   "outputs": [
    {
     "output_type": "execute_result",
     "data": {
      "text/plain": "array([1., 4., 4., 9.]) <Unit('foot * force_pound * revolutions_per_minute')>",
      "text/html": "<table><tbody><tr><th>Magnitude</th><td style='text-align:left;'><pre>[1.0 4.0 4.0 9.0]</pre></td></tr><tr><th>Units</th><td style='text-align:left;'>foot force_pound revolutions_per_minute</td></tr></tbody></table>",
      "text/latex": "$\\begin{pmatrix}1.0 & 4.0 & 4.0 & 9.0\\end{pmatrix}\\ \\mathrm{foot} \\cdot \\mathrm{force\\_pound} \\cdot \\mathrm{revolutions\\_per\\_minute}$"
     },
     "metadata": {},
     "execution_count": 7
    }
   ],
   "source": [
    "df.power.values.quantity"
   ]
  },
  {
   "cell_type": "markdown",
   "metadata": {},
   "source": [
    "Pandas Series accessors are provided for most Quantity properties and methods, which will convert the result to a Series where possible."
   ]
  },
  {
   "cell_type": "code",
   "execution_count": 8,
   "metadata": {},
   "outputs": [
    {
     "output_type": "execute_result",
     "data": {
      "text/plain": "<Unit('foot * force_pound * revolutions_per_minute')>",
      "text/html": "foot force_pound revolutions_per_minute",
      "text/latex": "$\\mathrm{foot} \\cdot \\mathrm{force\\_pound} \\cdot \\mathrm{revolutions\\_per\\_minute}$"
     },
     "metadata": {},
     "execution_count": 8
    }
   ],
   "source": [
    "df.power.pint.units"
   ]
  },
  {
   "cell_type": "code",
   "execution_count": 9,
   "metadata": {},
   "outputs": [
    {
     "output_type": "execute_result",
     "data": {
      "text/plain": "<PintArray>\n[0.00014198092353610379,  0.0005679236941444151,  0.0005679236941444151,\n   0.001277828311824934]\nLength: 4, dtype: pint[kilowatt]"
     },
     "metadata": {},
     "execution_count": 9
    }
   ],
   "source": [
    "df.power.pint.to(\"kW\").values"
   ]
  },
  {
   "cell_type": "markdown",
   "metadata": {},
   "source": [
    "## Reading from csv\n",
    "\n",
    "Reading from files is the far more standard way to use pandas. To facilitate this, DataFrame accessors are provided to make it easy to get to PintArrays. "
   ]
  },
  {
   "cell_type": "code",
   "execution_count": 10,
   "metadata": {},
   "outputs": [],
   "source": [
    "import pandas as pd \n",
    "import pint\n",
    "import io"
   ]
  },
  {
   "cell_type": "markdown",
   "metadata": {},
   "source": [
    "Here's the contents of the csv file."
   ]
  },
  {
   "cell_type": "code",
   "execution_count": 11,
   "metadata": {},
   "outputs": [],
   "source": [
    "test_data = '''speed,mech power,torque,rail pressure,fuel flow rate,fluid power\n",
    "rpm,kW,N m,bar,l/min,kW\n",
    "1000.0,,10.0,1000.0,10.0,\n",
    "1100.0,,10.0,100000000.0,10.0,\n",
    "1200.0,,10.0,1000.0,10.0,\n",
    "1200.0,,10.0,1000.0,10.0,'''"
   ]
  },
  {
   "cell_type": "markdown",
   "metadata": {},
   "source": [
    "Let's read that into a DataFrame.\n",
    "Here io.StringIO is used in place of reading a file from disk, whereas a csv file path would typically be used and is shown commented."
   ]
  },
  {
   "cell_type": "code",
   "execution_count": 12,
   "metadata": {},
   "outputs": [
    {
     "output_type": "execute_result",
     "data": {
      "text/plain": "    speed mech power torque rail pressure fuel flow rate fluid power\n      rpm         kW    N m           bar          l/min          kW\n0  1000.0        NaN   10.0        1000.0           10.0         NaN\n1  1100.0        NaN   10.0   100000000.0           10.0         NaN\n2  1200.0        NaN   10.0        1000.0           10.0         NaN\n3  1200.0        NaN   10.0        1000.0           10.0         NaN",
      "text/html": "<div>\n<style scoped>\n    .dataframe tbody tr th:only-of-type {\n        vertical-align: middle;\n    }\n\n    .dataframe tbody tr th {\n        vertical-align: top;\n    }\n\n    .dataframe thead tr th {\n        text-align: left;\n    }\n</style>\n<table border=\"1\" class=\"dataframe\">\n  <thead>\n    <tr>\n      <th></th>\n      <th>speed</th>\n      <th>mech power</th>\n      <th>torque</th>\n      <th>rail pressure</th>\n      <th>fuel flow rate</th>\n      <th>fluid power</th>\n    </tr>\n    <tr>\n      <th></th>\n      <th>rpm</th>\n      <th>kW</th>\n      <th>N m</th>\n      <th>bar</th>\n      <th>l/min</th>\n      <th>kW</th>\n    </tr>\n  </thead>\n  <tbody>\n    <tr>\n      <th>0</th>\n      <td>1000.0</td>\n      <td>NaN</td>\n      <td>10.0</td>\n      <td>1000.0</td>\n      <td>10.0</td>\n      <td>NaN</td>\n    </tr>\n    <tr>\n      <th>1</th>\n      <td>1100.0</td>\n      <td>NaN</td>\n      <td>10.0</td>\n      <td>100000000.0</td>\n      <td>10.0</td>\n      <td>NaN</td>\n    </tr>\n    <tr>\n      <th>2</th>\n      <td>1200.0</td>\n      <td>NaN</td>\n      <td>10.0</td>\n      <td>1000.0</td>\n      <td>10.0</td>\n      <td>NaN</td>\n    </tr>\n    <tr>\n      <th>3</th>\n      <td>1200.0</td>\n      <td>NaN</td>\n      <td>10.0</td>\n      <td>1000.0</td>\n      <td>10.0</td>\n      <td>NaN</td>\n    </tr>\n  </tbody>\n</table>\n</div>"
     },
     "metadata": {},
     "execution_count": 12
    }
   ],
   "source": [
    "df = pd.read_csv(io.StringIO(test_data),header=[0,1])\n",
    "# df = pd.read_csv(\"/path/to/test_data.csv\",header=[0,1])\n",
    "df"
   ]
  },
  {
   "cell_type": "markdown",
   "metadata": {},
   "source": [
    "Then use the DataFrame's pint accessor's quantify method to convert the columns from `np.ndarray`s to PintArrays, with units from the bottom column level."
   ]
  },
  {
   "cell_type": "code",
   "execution_count": 13,
   "metadata": {},
   "outputs": [
    {
     "output_type": "execute_result",
     "data": {
      "text/plain": "speed           rpm      float64\nmech power      kW       float64\ntorque          N m      float64\nrail pressure   bar      float64\nfuel flow rate  l/min    float64\nfluid power     kW       float64\ndtype: object"
     },
     "metadata": {},
     "execution_count": 13
    }
   ],
   "source": [
    "df.dtypes"
   ]
  },
  {
   "cell_type": "code",
   "execution_count": 14,
   "metadata": {
    "tags": []
   },
   "outputs": [
    {
     "output_type": "stream",
     "name": "stderr",
     "text": "C:\\Users\\ayoung\\AppData\\Local\\Continuum\\anaconda3\\envs\\calcs\\lib\\site-packages\\pint_pandas\\pint_array.py:648: UnitStrippedWarning: The unit of the quantity is stripped when downcasting to ndarray.\n  return np.array(qtys, dtype=\"object\", copy=copy)\nC:\\Users\\ayoung\\AppData\\Local\\Continuum\\anaconda3\\envs\\calcs\\lib\\site-packages\\pint_pandas\\pint_array.py:648: UnitStrippedWarning: The unit of the quantity is stripped when downcasting to ndarray.\n  return np.array(qtys, dtype=\"object\", copy=copy)\n"
    },
    {
     "output_type": "execute_result",
     "data": {
      "text/plain": "    speed mech power torque rail pressure fuel flow rate fluid power\n0  1000.0        nan   10.0        1000.0           10.0         nan\n1  1100.0        nan   10.0   100000000.0           10.0         nan\n2  1200.0        nan   10.0        1000.0           10.0         nan\n3  1200.0        nan   10.0        1000.0           10.0         nan",
      "text/html": "<div>\n<style scoped>\n    .dataframe tbody tr th:only-of-type {\n        vertical-align: middle;\n    }\n\n    .dataframe tbody tr th {\n        vertical-align: top;\n    }\n\n    .dataframe thead th {\n        text-align: right;\n    }\n</style>\n<table border=\"1\" class=\"dataframe\">\n  <thead>\n    <tr style=\"text-align: right;\">\n      <th></th>\n      <th>speed</th>\n      <th>mech power</th>\n      <th>torque</th>\n      <th>rail pressure</th>\n      <th>fuel flow rate</th>\n      <th>fluid power</th>\n    </tr>\n  </thead>\n  <tbody>\n    <tr>\n      <th>0</th>\n      <td>1000.0</td>\n      <td>nan</td>\n      <td>10.0</td>\n      <td>1000.0</td>\n      <td>10.0</td>\n      <td>nan</td>\n    </tr>\n    <tr>\n      <th>1</th>\n      <td>1100.0</td>\n      <td>nan</td>\n      <td>10.0</td>\n      <td>100000000.0</td>\n      <td>10.0</td>\n      <td>nan</td>\n    </tr>\n    <tr>\n      <th>2</th>\n      <td>1200.0</td>\n      <td>nan</td>\n      <td>10.0</td>\n      <td>1000.0</td>\n      <td>10.0</td>\n      <td>nan</td>\n    </tr>\n    <tr>\n      <th>3</th>\n      <td>1200.0</td>\n      <td>nan</td>\n      <td>10.0</td>\n      <td>1000.0</td>\n      <td>10.0</td>\n      <td>nan</td>\n    </tr>\n  </tbody>\n</table>\n</div>"
     },
     "metadata": {},
     "execution_count": 14
    }
   ],
   "source": [
    "df_ = df.pint.quantify(level=-1)\n",
    "df_"
   ]
  },
  {
   "cell_type": "markdown",
   "metadata": {},
   "source": [
    "As previously, operations between DataFrame columns are unit aware"
   ]
  },
  {
   "cell_type": "code",
   "execution_count": 15,
   "metadata": {},
   "outputs": [
    {
     "output_type": "execute_result",
     "data": {
      "text/plain": "0    10000.0\n1    11000.0\n2    12000.0\n3    12000.0\ndtype: pint[meter * newton * revolutions_per_minute]"
     },
     "metadata": {},
     "execution_count": 15
    }
   ],
   "source": [
    "df_.speed*df_.torque"
   ]
  },
  {
   "cell_type": "code",
   "execution_count": 16,
   "metadata": {
    "tags": []
   },
   "outputs": [
    {
     "output_type": "stream",
     "name": "stderr",
     "text": "C:\\Users\\ayoung\\AppData\\Local\\Continuum\\anaconda3\\envs\\calcs\\lib\\site-packages\\pint_pandas\\pint_array.py:648: UnitStrippedWarning: The unit of the quantity is stripped when downcasting to ndarray.\n  return np.array(qtys, dtype=\"object\", copy=copy)\nC:\\Users\\ayoung\\AppData\\Local\\Continuum\\anaconda3\\envs\\calcs\\lib\\site-packages\\pint_pandas\\pint_array.py:648: UnitStrippedWarning: The unit of the quantity is stripped when downcasting to ndarray.\n  return np.array(qtys, dtype=\"object\", copy=copy)\n"
    },
    {
     "output_type": "execute_result",
     "data": {
      "text/plain": "    speed mech power torque rail pressure fuel flow rate fluid power\n0  1000.0        nan   10.0        1000.0           10.0         nan\n1  1100.0        nan   10.0   100000000.0           10.0         nan\n2  1200.0        nan   10.0        1000.0           10.0         nan\n3  1200.0        nan   10.0        1000.0           10.0         nan",
      "text/html": "<div>\n<style scoped>\n    .dataframe tbody tr th:only-of-type {\n        vertical-align: middle;\n    }\n\n    .dataframe tbody tr th {\n        vertical-align: top;\n    }\n\n    .dataframe thead th {\n        text-align: right;\n    }\n</style>\n<table border=\"1\" class=\"dataframe\">\n  <thead>\n    <tr style=\"text-align: right;\">\n      <th></th>\n      <th>speed</th>\n      <th>mech power</th>\n      <th>torque</th>\n      <th>rail pressure</th>\n      <th>fuel flow rate</th>\n      <th>fluid power</th>\n    </tr>\n  </thead>\n  <tbody>\n    <tr>\n      <th>0</th>\n      <td>1000.0</td>\n      <td>nan</td>\n      <td>10.0</td>\n      <td>1000.0</td>\n      <td>10.0</td>\n      <td>nan</td>\n    </tr>\n    <tr>\n      <th>1</th>\n      <td>1100.0</td>\n      <td>nan</td>\n      <td>10.0</td>\n      <td>100000000.0</td>\n      <td>10.0</td>\n      <td>nan</td>\n    </tr>\n    <tr>\n      <th>2</th>\n      <td>1200.0</td>\n      <td>nan</td>\n      <td>10.0</td>\n      <td>1000.0</td>\n      <td>10.0</td>\n      <td>nan</td>\n    </tr>\n    <tr>\n      <th>3</th>\n      <td>1200.0</td>\n      <td>nan</td>\n      <td>10.0</td>\n      <td>1000.0</td>\n      <td>10.0</td>\n      <td>nan</td>\n    </tr>\n  </tbody>\n</table>\n</div>"
     },
     "metadata": {},
     "execution_count": 16
    }
   ],
   "source": [
    "df_"
   ]
  },
  {
   "cell_type": "code",
   "execution_count": 17,
   "metadata": {
    "tags": []
   },
   "outputs": [
    {
     "output_type": "stream",
     "name": "stderr",
     "text": "C:\\Users\\ayoung\\AppData\\Local\\Continuum\\anaconda3\\envs\\calcs\\lib\\site-packages\\pint_pandas\\pint_array.py:648: UnitStrippedWarning: The unit of the quantity is stripped when downcasting to ndarray.\n  return np.array(qtys, dtype=\"object\", copy=copy)\nC:\\Users\\ayoung\\AppData\\Local\\Continuum\\anaconda3\\envs\\calcs\\lib\\site-packages\\pint_pandas\\pint_array.py:648: UnitStrippedWarning: The unit of the quantity is stripped when downcasting to ndarray.\n  return np.array(qtys, dtype=\"object\", copy=copy)\n"
    },
    {
     "output_type": "execute_result",
     "data": {
      "text/plain": "    speed mech power torque rail pressure fuel flow rate   fluid power\n0  1000.0    10000.0   10.0        1000.0           10.0       10000.0\n1  1100.0    11000.0   10.0   100000000.0           10.0  1000000000.0\n2  1200.0    12000.0   10.0        1000.0           10.0       10000.0\n3  1200.0    12000.0   10.0        1000.0           10.0       10000.0",
      "text/html": "<div>\n<style scoped>\n    .dataframe tbody tr th:only-of-type {\n        vertical-align: middle;\n    }\n\n    .dataframe tbody tr th {\n        vertical-align: top;\n    }\n\n    .dataframe thead th {\n        text-align: right;\n    }\n</style>\n<table border=\"1\" class=\"dataframe\">\n  <thead>\n    <tr style=\"text-align: right;\">\n      <th></th>\n      <th>speed</th>\n      <th>mech power</th>\n      <th>torque</th>\n      <th>rail pressure</th>\n      <th>fuel flow rate</th>\n      <th>fluid power</th>\n    </tr>\n  </thead>\n  <tbody>\n    <tr>\n      <th>0</th>\n      <td>1000.0</td>\n      <td>10000.0</td>\n      <td>10.0</td>\n      <td>1000.0</td>\n      <td>10.0</td>\n      <td>10000.0</td>\n    </tr>\n    <tr>\n      <th>1</th>\n      <td>1100.0</td>\n      <td>11000.0</td>\n      <td>10.0</td>\n      <td>100000000.0</td>\n      <td>10.0</td>\n      <td>1000000000.0</td>\n    </tr>\n    <tr>\n      <th>2</th>\n      <td>1200.0</td>\n      <td>12000.0</td>\n      <td>10.0</td>\n      <td>1000.0</td>\n      <td>10.0</td>\n      <td>10000.0</td>\n    </tr>\n    <tr>\n      <th>3</th>\n      <td>1200.0</td>\n      <td>12000.0</td>\n      <td>10.0</td>\n      <td>1000.0</td>\n      <td>10.0</td>\n      <td>10000.0</td>\n    </tr>\n  </tbody>\n</table>\n</div>"
     },
     "metadata": {},
     "execution_count": 17
    }
   ],
   "source": [
    "df_['mech power'] = df_.speed*df_.torque\n",
    "df_['fluid power'] = df_['fuel flow rate'] * df_['rail pressure']\n",
    "df_"
   ]
  },
  {
   "cell_type": "markdown",
   "metadata": {},
   "source": [
    "The DataFrame's `pint.dequantify` method then allows us to retrieve the units information as a header row once again."
   ]
  },
  {
   "cell_type": "code",
   "execution_count": 18,
   "metadata": {},
   "outputs": [
    {
     "output_type": "execute_result",
     "data": {
      "text/plain": "                      speed                              mech power  \\\nunit revolutions_per_minute meter * newton * revolutions_per_minute   \n0                    1000.0                                 10000.0   \n1                    1100.0                                 11000.0   \n2                    1200.0                                 12000.0   \n3                    1200.0                                 12000.0   \n\n             torque rail pressure fuel flow rate          fluid power  \nunit meter * newton           bar liter / minute bar * liter / minute  \n0              10.0        1000.0           10.0         1.000000e+04  \n1              10.0   100000000.0           10.0         1.000000e+09  \n2              10.0        1000.0           10.0         1.000000e+04  \n3              10.0        1000.0           10.0         1.000000e+04  ",
      "text/html": "<div>\n<style scoped>\n    .dataframe tbody tr th:only-of-type {\n        vertical-align: middle;\n    }\n\n    .dataframe tbody tr th {\n        vertical-align: top;\n    }\n\n    .dataframe thead tr th {\n        text-align: left;\n    }\n</style>\n<table border=\"1\" class=\"dataframe\">\n  <thead>\n    <tr>\n      <th></th>\n      <th>speed</th>\n      <th>mech power</th>\n      <th>torque</th>\n      <th>rail pressure</th>\n      <th>fuel flow rate</th>\n      <th>fluid power</th>\n    </tr>\n    <tr>\n      <th>unit</th>\n      <th>revolutions_per_minute</th>\n      <th>meter * newton * revolutions_per_minute</th>\n      <th>meter * newton</th>\n      <th>bar</th>\n      <th>liter / minute</th>\n      <th>bar * liter / minute</th>\n    </tr>\n  </thead>\n  <tbody>\n    <tr>\n      <th>0</th>\n      <td>1000.0</td>\n      <td>10000.0</td>\n      <td>10.0</td>\n      <td>1000.0</td>\n      <td>10.0</td>\n      <td>1.000000e+04</td>\n    </tr>\n    <tr>\n      <th>1</th>\n      <td>1100.0</td>\n      <td>11000.0</td>\n      <td>10.0</td>\n      <td>100000000.0</td>\n      <td>10.0</td>\n      <td>1.000000e+09</td>\n    </tr>\n    <tr>\n      <th>2</th>\n      <td>1200.0</td>\n      <td>12000.0</td>\n      <td>10.0</td>\n      <td>1000.0</td>\n      <td>10.0</td>\n      <td>1.000000e+04</td>\n    </tr>\n    <tr>\n      <th>3</th>\n      <td>1200.0</td>\n      <td>12000.0</td>\n      <td>10.0</td>\n      <td>1000.0</td>\n      <td>10.0</td>\n      <td>1.000000e+04</td>\n    </tr>\n  </tbody>\n</table>\n</div>"
     },
     "metadata": {},
     "execution_count": 18
    }
   ],
   "source": [
    "df_.pint.dequantify()"
   ]
  },
  {
   "cell_type": "markdown",
   "metadata": {},
   "source": [
    "This allows for some rather powerful abilities. For example, to change single column units"
   ]
  },
  {
   "cell_type": "code",
   "execution_count": 19,
   "metadata": {},
   "outputs": [
    {
     "output_type": "execute_result",
     "data": {
      "text/plain": "                      speed mech power         torque rail pressure  \\\nunit revolutions_per_minute   kilowatt meter * newton           bar   \n0                    1000.0   1.047198           10.0        1000.0   \n1                    1100.0   1.151917           10.0   100000000.0   \n2                    1200.0   1.256637           10.0        1000.0   \n3                    1200.0   1.256637           10.0        1000.0   \n\n     fuel flow rate   fluid power  \nunit liter / minute      kilowatt  \n0              10.0  1.666667e+01  \n1              10.0  1.666667e+06  \n2              10.0  1.666667e+01  \n3              10.0  1.666667e+01  ",
      "text/html": "<div>\n<style scoped>\n    .dataframe tbody tr th:only-of-type {\n        vertical-align: middle;\n    }\n\n    .dataframe tbody tr th {\n        vertical-align: top;\n    }\n\n    .dataframe thead tr th {\n        text-align: left;\n    }\n</style>\n<table border=\"1\" class=\"dataframe\">\n  <thead>\n    <tr>\n      <th></th>\n      <th>speed</th>\n      <th>mech power</th>\n      <th>torque</th>\n      <th>rail pressure</th>\n      <th>fuel flow rate</th>\n      <th>fluid power</th>\n    </tr>\n    <tr>\n      <th>unit</th>\n      <th>revolutions_per_minute</th>\n      <th>kilowatt</th>\n      <th>meter * newton</th>\n      <th>bar</th>\n      <th>liter / minute</th>\n      <th>kilowatt</th>\n    </tr>\n  </thead>\n  <tbody>\n    <tr>\n      <th>0</th>\n      <td>1000.0</td>\n      <td>1.047198</td>\n      <td>10.0</td>\n      <td>1000.0</td>\n      <td>10.0</td>\n      <td>1.666667e+01</td>\n    </tr>\n    <tr>\n      <th>1</th>\n      <td>1100.0</td>\n      <td>1.151917</td>\n      <td>10.0</td>\n      <td>100000000.0</td>\n      <td>10.0</td>\n      <td>1.666667e+06</td>\n    </tr>\n    <tr>\n      <th>2</th>\n      <td>1200.0</td>\n      <td>1.256637</td>\n      <td>10.0</td>\n      <td>1000.0</td>\n      <td>10.0</td>\n      <td>1.666667e+01</td>\n    </tr>\n    <tr>\n      <th>3</th>\n      <td>1200.0</td>\n      <td>1.256637</td>\n      <td>10.0</td>\n      <td>1000.0</td>\n      <td>10.0</td>\n      <td>1.666667e+01</td>\n    </tr>\n  </tbody>\n</table>\n</div>"
     },
     "metadata": {},
     "execution_count": 19
    }
   ],
   "source": [
    "df_['fluid power'] = df_['fluid power'].pint.to(\"kW\")\n",
    "df_['mech power'] = df_['mech power'].pint.to(\"kW\")\n",
    "df_.pint.dequantify()"
   ]
  },
  {
   "cell_type": "markdown",
   "metadata": {},
   "source": [
    "The units are harder to read than they need be, so lets change pints default format for displaying units."
   ]
  },
  {
   "cell_type": "code",
   "execution_count": 20,
   "metadata": {},
   "outputs": [
    {
     "output_type": "execute_result",
     "data": {
      "text/plain": "       speed mech power torque rail pressure fuel flow rate   fluid power\nunit     rpm         kW    N·m           bar          l/min            kW\n0     1000.0   1.047198   10.0        1000.0           10.0  1.666667e+01\n1     1100.0   1.151917   10.0   100000000.0           10.0  1.666667e+06\n2     1200.0   1.256637   10.0        1000.0           10.0  1.666667e+01\n3     1200.0   1.256637   10.0        1000.0           10.0  1.666667e+01",
      "text/html": "<div>\n<style scoped>\n    .dataframe tbody tr th:only-of-type {\n        vertical-align: middle;\n    }\n\n    .dataframe tbody tr th {\n        vertical-align: top;\n    }\n\n    .dataframe thead tr th {\n        text-align: left;\n    }\n</style>\n<table border=\"1\" class=\"dataframe\">\n  <thead>\n    <tr>\n      <th></th>\n      <th>speed</th>\n      <th>mech power</th>\n      <th>torque</th>\n      <th>rail pressure</th>\n      <th>fuel flow rate</th>\n      <th>fluid power</th>\n    </tr>\n    <tr>\n      <th>unit</th>\n      <th>rpm</th>\n      <th>kW</th>\n      <th>N·m</th>\n      <th>bar</th>\n      <th>l/min</th>\n      <th>kW</th>\n    </tr>\n  </thead>\n  <tbody>\n    <tr>\n      <th>0</th>\n      <td>1000.0</td>\n      <td>1.047198</td>\n      <td>10.0</td>\n      <td>1000.0</td>\n      <td>10.0</td>\n      <td>1.666667e+01</td>\n    </tr>\n    <tr>\n      <th>1</th>\n      <td>1100.0</td>\n      <td>1.151917</td>\n      <td>10.0</td>\n      <td>100000000.0</td>\n      <td>10.0</td>\n      <td>1.666667e+06</td>\n    </tr>\n    <tr>\n      <th>2</th>\n      <td>1200.0</td>\n      <td>1.256637</td>\n      <td>10.0</td>\n      <td>1000.0</td>\n      <td>10.0</td>\n      <td>1.666667e+01</td>\n    </tr>\n    <tr>\n      <th>3</th>\n      <td>1200.0</td>\n      <td>1.256637</td>\n      <td>10.0</td>\n      <td>1000.0</td>\n      <td>10.0</td>\n      <td>1.666667e+01</td>\n    </tr>\n  </tbody>\n</table>\n</div>"
     },
     "metadata": {},
     "execution_count": 20
    }
   ],
   "source": [
    "pint_pandas.PintType.ureg.default_format = \"~P\"\n",
    "df_.pint.dequantify()"
   ]
  },
  {
   "cell_type": "markdown",
   "metadata": {},
   "source": [
    "or the entire table's units"
   ]
  },
  {
   "cell_type": "code",
   "execution_count": 21,
   "metadata": {},
   "outputs": [
    {
     "output_type": "execute_result",
     "data": {
      "text/plain": "           speed   mech power   torque rail pressure fuel flow rate  \\\nunit       rad/s     kg·m²/s³ kg·m²/s²       kg/m/s²           m³/s   \n0     104.719755  1047.197551     10.0  1.000000e+08       0.000167   \n1     115.191731  1151.917306     10.0  1.000000e+13       0.000167   \n2     125.663706  1256.637061     10.0  1.000000e+08       0.000167   \n3     125.663706  1256.637061     10.0  1.000000e+08       0.000167   \n\n       fluid power  \nunit      kg·m²/s³  \n0     1.666667e+04  \n1     1.666667e+09  \n2     1.666667e+04  \n3     1.666667e+04  ",
      "text/html": "<div>\n<style scoped>\n    .dataframe tbody tr th:only-of-type {\n        vertical-align: middle;\n    }\n\n    .dataframe tbody tr th {\n        vertical-align: top;\n    }\n\n    .dataframe thead tr th {\n        text-align: left;\n    }\n</style>\n<table border=\"1\" class=\"dataframe\">\n  <thead>\n    <tr>\n      <th></th>\n      <th>speed</th>\n      <th>mech power</th>\n      <th>torque</th>\n      <th>rail pressure</th>\n      <th>fuel flow rate</th>\n      <th>fluid power</th>\n    </tr>\n    <tr>\n      <th>unit</th>\n      <th>rad/s</th>\n      <th>kg·m²/s³</th>\n      <th>kg·m²/s²</th>\n      <th>kg/m/s²</th>\n      <th>m³/s</th>\n      <th>kg·m²/s³</th>\n    </tr>\n  </thead>\n  <tbody>\n    <tr>\n      <th>0</th>\n      <td>104.719755</td>\n      <td>1047.197551</td>\n      <td>10.0</td>\n      <td>1.000000e+08</td>\n      <td>0.000167</td>\n      <td>1.666667e+04</td>\n    </tr>\n    <tr>\n      <th>1</th>\n      <td>115.191731</td>\n      <td>1151.917306</td>\n      <td>10.0</td>\n      <td>1.000000e+13</td>\n      <td>0.000167</td>\n      <td>1.666667e+09</td>\n    </tr>\n    <tr>\n      <th>2</th>\n      <td>125.663706</td>\n      <td>1256.637061</td>\n      <td>10.0</td>\n      <td>1.000000e+08</td>\n      <td>0.000167</td>\n      <td>1.666667e+04</td>\n    </tr>\n    <tr>\n      <th>3</th>\n      <td>125.663706</td>\n      <td>1256.637061</td>\n      <td>10.0</td>\n      <td>1.000000e+08</td>\n      <td>0.000167</td>\n      <td>1.666667e+04</td>\n    </tr>\n  </tbody>\n</table>\n</div>"
     },
     "metadata": {},
     "execution_count": 21
    }
   ],
   "source": [
    "df_.pint.to_base_units().pint.dequantify()"
   ]
  },
  {
   "cell_type": "markdown",
   "metadata": {},
   "source": [
    "## Advanced example\n",
    "This example shows alternative ways to use pint with pandas and other features.\n",
    "\n",
    "Start with the same imports."
   ]
  },
  {
   "cell_type": "code",
   "execution_count": 22,
   "metadata": {},
   "outputs": [],
   "source": [
    "import pandas as pd \n",
    "import pint\n",
    "import pint_pandas"
   ]
  },
  {
   "cell_type": "markdown",
   "metadata": {},
   "source": [
    "We'll be use a shorthand for PintArray"
   ]
  },
  {
   "cell_type": "code",
   "execution_count": 23,
   "metadata": {},
   "outputs": [],
   "source": [
    "PA_ = pint_pandas.PintArray"
   ]
  },
  {
   "cell_type": "markdown",
   "metadata": {},
   "source": [
    "And set up a unit registry and quantity shorthand."
   ]
  },
  {
   "cell_type": "code",
   "execution_count": 24,
   "metadata": {},
   "outputs": [],
   "source": [
    "ureg = pint.UnitRegistry()\n",
    "Q_ = ureg.Quantity"
   ]
  },
  {
   "cell_type": "markdown",
   "metadata": {},
   "source": [
    "Operations between PintArrays of different unit registry will not work. We can change the unit registry that will be used in creating new PintArrays to prevent this issue."
   ]
  },
  {
   "cell_type": "code",
   "execution_count": 25,
   "metadata": {},
   "outputs": [],
   "source": [
    "pint_pandas.PintType.ureg = ureg"
   ]
  },
  {
   "cell_type": "markdown",
   "metadata": {},
   "source": [
    "These are the possible ways to create a PintArray.\n",
    "\n",
    "Note that pint\\[unit\\] must be used for the Series constuctor, whereas the PintArray constructor allows the unit string or object."
   ]
  },
  {
   "cell_type": "code",
   "execution_count": 26,
   "metadata": {
    "tags": []
   },
   "outputs": [
    {
     "output_type": "stream",
     "name": "stderr",
     "text": "C:\\Users\\ayoung\\AppData\\Local\\Continuum\\anaconda3\\envs\\calcs\\lib\\site-packages\\pint_pandas\\pint_array.py:194: RuntimeWarning: pint-pandas does not support magnitudes of <class 'int'>. Converting magnitudes to float.\n  warnings.warn(\nC:\\Users\\ayoung\\AppData\\Local\\Continuum\\anaconda3\\envs\\calcs\\lib\\site-packages\\pint_pandas\\pint_array.py:194: RuntimeWarning: pint-pandas does not support magnitudes of <class 'numpy.int32'>. Converting magnitudes to float.\n  warnings.warn(\nC:\\Users\\ayoung\\AppData\\Local\\Continuum\\anaconda3\\envs\\calcs\\lib\\site-packages\\pint_pandas\\pint_array.py:648: UnitStrippedWarning: The unit of the quantity is stripped when downcasting to ndarray.\n  return np.array(qtys, dtype=\"object\", copy=copy)\nC:\\Users\\ayoung\\AppData\\Local\\Continuum\\anaconda3\\envs\\calcs\\lib\\site-packages\\pint_pandas\\pint_array.py:648: UnitStrippedWarning: The unit of the quantity is stripped when downcasting to ndarray.\n  return np.array(qtys, dtype=\"object\", copy=copy)\n"
    },
    {
     "output_type": "execute_result",
     "data": {
      "text/plain": "  length width distance height depth\n0    1.0   2.0      2.0    2.0   2.0\n1    2.0   3.0      3.0    3.0   3.0",
      "text/html": "<div>\n<style scoped>\n    .dataframe tbody tr th:only-of-type {\n        vertical-align: middle;\n    }\n\n    .dataframe tbody tr th {\n        vertical-align: top;\n    }\n\n    .dataframe thead th {\n        text-align: right;\n    }\n</style>\n<table border=\"1\" class=\"dataframe\">\n  <thead>\n    <tr style=\"text-align: right;\">\n      <th></th>\n      <th>length</th>\n      <th>width</th>\n      <th>distance</th>\n      <th>height</th>\n      <th>depth</th>\n    </tr>\n  </thead>\n  <tbody>\n    <tr>\n      <th>0</th>\n      <td>1.0</td>\n      <td>2.0</td>\n      <td>2.0</td>\n      <td>2.0</td>\n      <td>2.0</td>\n    </tr>\n    <tr>\n      <th>1</th>\n      <td>2.0</td>\n      <td>3.0</td>\n      <td>3.0</td>\n      <td>3.0</td>\n      <td>3.0</td>\n    </tr>\n  </tbody>\n</table>\n</div>"
     },
     "metadata": {},
     "execution_count": 26
    }
   ],
   "source": [
    "df = pd.DataFrame({\n",
    "        \"length\" : pd.Series([1,2], dtype=\"pint[m]\"),\n",
    "        \"width\" : PA_([2,3], dtype=\"pint[m]\"),\n",
    "        \"distance\" : PA_([2,3], dtype=\"m\"),\n",
    "        \"height\" : PA_([2,3], dtype=ureg.m),\n",
    "        \"depth\" : PA_.from_1darray_quantity(Q_([2,3],ureg.m)),\n",
    "    })\n",
    "df"
   ]
  },
  {
   "cell_type": "code",
   "execution_count": 27,
   "metadata": {},
   "outputs": [
    {
     "output_type": "execute_result",
     "data": {
      "text/plain": "<Unit('meter')>",
      "text/html": "meter",
      "text/latex": "$\\mathrm{meter}$"
     },
     "metadata": {},
     "execution_count": 27
    }
   ],
   "source": [
    "df.length.values.units"
   ]
  }
 ],
 "metadata": {
  "anaconda-cloud": {},
  "kernelspec": {
   "display_name": "Python 3",
   "language": "python",
   "name": "python3"
  },
  "language_info": {
   "codemirror_mode": {
    "name": "ipython",
    "version": 3
   },
   "file_extension": ".py",
   "mimetype": "text/x-python",
   "name": "python",
   "nbconvert_exporter": "python",
   "pygments_lexer": "ipython3",
   "version": "3.9.6-final"
  }
 },
 "nbformat": 4,
 "nbformat_minor": 2
}